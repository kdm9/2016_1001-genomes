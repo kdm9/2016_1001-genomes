{
 "cells": [
  {
   "cell_type": "code",
   "execution_count": 3,
   "metadata": {
    "collapsed": false
   },
   "outputs": [
    {
     "name": "stderr",
     "output_type": "stream",
     "text": [
      "INFO: Precompiling module DataFrames.\n"
     ]
    }
   ],
   "source": [
    "using DataFrames"
   ]
  },
  {
   "cell_type": "code",
   "execution_count": 28,
   "metadata": {
    "collapsed": false
   },
   "outputs": [
    {
     "data": {
      "text/plain": [
       "1"
      ]
     },
     "execution_count": 28,
     "metadata": {},
     "output_type": "execute_result"
    }
   ],
   "source": [
    "acc = readtable(\"accessions.csv\")\n",
    "rename!(acc, Dict(:name => :accession_name, :tg_ecotypeid=>:ecotypeid))\n",
    "acc = acc[[:ecotypeid, :accession_name]]\n",
    "1"
   ]
  },
  {
   "cell_type": "code",
   "execution_count": 30,
   "metadata": {
    "collapsed": false
   },
   "outputs": [
    {
     "data": {
      "text/plain": [
       "1"
      ]
     },
     "execution_count": 30,
     "metadata": {},
     "output_type": "execute_result"
    }
   ],
   "source": [
    "ft10 = readtable(\"ft10.csv\")\n",
    "ft10 = ft10[[:accession_name, :phenotype_value]]\n",
    "rename!(ft10, :phenotype_value, :FT10)\n",
    "1"
   ]
  },
  {
   "cell_type": "code",
   "execution_count": 31,
   "metadata": {
    "collapsed": false
   },
   "outputs": [
    {
     "data": {
      "text/plain": [
       "1"
      ]
     },
     "execution_count": 31,
     "metadata": {},
     "output_type": "execute_result"
    }
   ],
   "source": [
    "ft16 = readtable(\"ft16.csv\")\n",
    "ft16 = ft16[[:accession_name, :phenotype_value]]\n",
    "rename!(ft16, :phenotype_value, :FT16)\n",
    "1"
   ]
  },
  {
   "cell_type": "code",
   "execution_count": 33,
   "metadata": {
    "collapsed": false
   },
   "outputs": [
    {
     "data": {
      "text/html": [
       "<table class=\"data-frame\"><tr><th></th><th>ecotypeid</th><th>accession_name</th><th>FT10</th><th>FT16</th></tr><tr><th>1</th><td>9503</td><td>11C1</td><td>64.0</td><td>53.5</td></tr><tr><th>2</th><td>6680</td><td>ANH-1</td><td>99.25</td><td>92.33333333</td></tr><tr><th>3</th><td>9911</td><td>ARGE-1-15</td><td>66.0</td><td>44.5</td></tr><tr><th>4</th><td>9927</td><td>ARR-17</td><td>87.75</td><td>73.25</td></tr><tr><th>5</th><td>7000</td><td>Aa-0</td><td>78.0</td><td>54.0</td></tr><tr><th>6</th><td>6986</td><td>Abd-0</td><td>61.5</td><td>43.75</td></tr><tr><th>7</th><td>9609</td><td>Adam-1</td><td>74.5</td><td>51.0</td></tr><tr><th>8</th><td>6897</td><td>Ag-0</td><td>68.0</td><td>66.25</td></tr><tr><th>9</th><td>9942</td><td>Agu-1</td><td>65.6666666667</td><td>110.6666667</td></tr><tr><th>10</th><td>9646</td><td>Aiell-1</td><td>62.5</td><td>55.25</td></tr><tr><th>11</th><td>9606</td><td>Aitba-1</td><td>63.0</td><td>41.0</td></tr><tr><th>12</th><td>9939</td><td>Aitba-2</td><td>75.25</td><td>60.75</td></tr><tr><th>13</th><td>6987</td><td>Ak-1</td><td>69.0</td><td>47.75</td></tr><tr><th>14</th><td>991</td><td>Ale-Stenar-41-1</td><td>110.5</td><td>106.75</td></tr><tr><th>15</th><td>992</td><td>Ale-Stenar-44-4</td><td>116.0</td><td>100.0</td></tr><tr><th>16</th><td>997</td><td>Ale-Stenar-56-14</td><td>101.25</td><td>87.5</td></tr><tr><th>17</th><td>1002</td><td>Ale-Stenar-64-24</td><td>102.75</td><td>86.25</td></tr><tr><th>18</th><td>1158</td><td>Aledal-6-49</td><td>98.75</td><td>88.0</td></tr><tr><th>19</th><td>8230</td><td>Algutsrum</td><td>110.3333333333</td><td>103.0</td></tr><tr><th>20</th><td>6989</td><td>Alst-1</td><td>78.25</td><td>61.0</td></tr><tr><th>21</th><td>9774</td><td>Alt-1</td><td>68.0</td><td>43.0</td></tr><tr><th>22</th><td>9758</td><td>Altai-5</td><td>71.25</td><td>73.0</td></tr><tr><th>23</th><td>9970</td><td>Altenb-2</td><td>86.5</td><td>81.75</td></tr><tr><th>24</th><td>6990</td><td>Amel-1</td><td>79.0</td><td>60.25</td></tr><tr><th>25</th><td>6898</td><td>An-1</td><td>57.5</td><td>34.25</td></tr><tr><th>26</th><td>6992</td><td>Ang-0</td><td>68.0</td><td>54.25</td></tr><tr><th>27</th><td>9980</td><td>Angel-1</td><td>68.5</td><td>60.5</td></tr><tr><th>28</th><td>9981</td><td>Angit-1</td><td>69.25</td><td>55.5</td></tr><tr><th>29</th><td>9759</td><td>Anz-0</td><td>61.5</td><td>58.5</td></tr><tr><th>30</th><td>9982</td><td>Apost-1</td><td>85.5</td><td>79.25</td></tr><tr><th>&vellip;</th><td>&vellip;</td><td>&vellip;</td><td>&vellip;</td><td>&vellip;</td></tr></table>"
      ],
      "text/plain": [
       "988×4 DataFrames.DataFrame\n",
       "│ Row │ ecotypeid │ accession_name │ FT10    │ FT16    │\n",
       "├─────┼───────────┼────────────────┼─────────┼─────────┤\n",
       "│ 1   │ 9503      │ \"11C1\"         │ 64.0    │ 53.5    │\n",
       "│ 2   │ 6680      │ \"ANH-1\"        │ 99.25   │ 92.3333 │\n",
       "│ 3   │ 9911      │ \"ARGE-1-15\"    │ 66.0    │ 44.5    │\n",
       "│ 4   │ 9927      │ \"ARR-17\"       │ 87.75   │ 73.25   │\n",
       "│ 5   │ 7000      │ \"Aa-0\"         │ 78.0    │ 54.0    │\n",
       "│ 6   │ 6986      │ \"Abd-0\"        │ 61.5    │ 43.75   │\n",
       "│ 7   │ 9609      │ \"Adam-1\"       │ 74.5    │ 51.0    │\n",
       "│ 8   │ 6897      │ \"Ag-0\"         │ 68.0    │ 66.25   │\n",
       "│ 9   │ 9942      │ \"Agu-1\"        │ 65.6667 │ 110.667 │\n",
       "│ 10  │ 9646      │ \"Aiell-1\"      │ 62.5    │ 55.25   │\n",
       "│ 11  │ 9606      │ \"Aitba-1\"      │ 63.0    │ 41.0    │\n",
       "⋮\n",
       "│ 977 │ 6424      │ \"ZdrI 1-23\"    │ 77.0    │ 53.0    │\n",
       "│ 978 │ 6445      │ \"ZdrI 2-21\"    │ 67.0    │ 50.0    │\n",
       "│ 979 │ 6434      │ \"ZdrI 2-9\"     │ 62.75   │ 40.0    │\n",
       "│ 980 │ 9709      │ \"Zerev-1-34\"   │ 82.0    │ 73.5    │\n",
       "│ 981 │ 9710      │ \"Zerev-1-35\"   │ 80.5    │ 83.25   │\n",
       "│ 982 │ 7418      │ \"Zu-1\"         │ 63.5    │ 46.25   │\n",
       "│ 983 │ 9644      │ \"Zupan-1\"      │ 76.75   │ 69.0    │\n",
       "│ 984 │ 1317      │ \"Ängsö-74-430\" │ 104.25  │ 102.0   │\n",
       "│ 985 │ 9321      │ \"Ådal 1\"       │ 106.75  │ 140.0   │\n",
       "│ 986 │ 9323      │ \"Ådal 3\"       │ 97.0    │ 80.75   │\n",
       "│ 987 │ 6073      │ \"ÖMö1-7\"       │ 102.25  │ 96.5    │\n",
       "│ 988 │ 6074      │ \"Ör-1\"         │ 101.0   │ 85.75   │"
      ]
     },
     "execution_count": 33,
     "metadata": {},
     "output_type": "execute_result"
    }
   ],
   "source": [
    "accessions_ft10_16 = join(join(acc, ft10, on=[:accession_name]), ft16, on=[:accession_name])"
   ]
  },
  {
   "cell_type": "code",
   "execution_count": null,
   "metadata": {
    "collapsed": true
   },
   "outputs": [],
   "source": [
    "writetable(\"ft10_ft1\")"
   ]
  }
 ],
 "metadata": {
  "kernelspec": {
   "display_name": "Julia 0.5.0",
   "language": "julia",
   "name": "julia-0.5"
  },
  "language_info": {
   "file_extension": ".jl",
   "mimetype": "application/julia",
   "name": "julia",
   "version": "0.5.0"
  },
  "latex_envs": {
   "bibliofile": "biblio.bib",
   "cite_by": "apalike",
   "current_citInitial": 1,
   "eqLabelWithNumbers": true,
   "eqNumInitial": 0
  }
 },
 "nbformat": 4,
 "nbformat_minor": 0
}
